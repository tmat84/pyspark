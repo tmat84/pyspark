{
 "cells": [
  {
   "cell_type": "markdown",
   "id": "59134250",
   "metadata": {},
   "source": [
    "# Crime in New  York City "
   ]
  },
  {
   "cell_type": "markdown",
   "id": "855178ea",
   "metadata": {},
   "source": [
    "In this notebook I tried to do some data preparation i.e. cleaning, transforming, summarizing using Apache Spark on the NYPD Crime dataset. The PySpark interface is used integrated with Spark Core features such as RDD (Resilient Distributed Dataset). "
   ]
  },
  {
   "cell_type": "markdown",
   "id": "c58e5ee1",
   "metadata": {},
   "source": [
    "## Overview"
   ]
  },
  {
   "cell_type": "markdown",
   "id": "22075948",
   "metadata": {},
   "source": [
    "### 1) PySpark Initialization"
   ]
  },
  {
   "cell_type": "markdown",
   "id": "076e8034",
   "metadata": {},
   "source": [
    "### 2) Prepare  the data "
   ]
  },
  {
   "cell_type": "markdown",
   "id": "5d6db50f",
   "metadata": {},
   "source": [
    "### 3) Identifying and Filtring Missing values"
   ]
  },
  {
   "cell_type": "markdown",
   "id": "1e2acb2f",
   "metadata": {},
   "source": [
    "### 4) Understand the data"
   ]
  },
  {
   "cell_type": "markdown",
   "id": "9155089e",
   "metadata": {},
   "source": [
    "#### What is the trend in crime over the past few years?"
   ]
  },
  {
   "cell_type": "markdown",
   "id": "d455ac2c",
   "metadata": {},
   "source": [
    "####  Which categories of crimes are the most common?"
   ]
  },
  {
   "cell_type": "markdown",
   "id": "5d6f4a9b",
   "metadata": {},
   "source": [
    "#### In which jurisdiction are crimes committed the most common?"
   ]
  },
  {
   "cell_type": "markdown",
   "id": "9ab57ffb",
   "metadata": {},
   "source": [
    "#### What is an avarage number of crimes committed per weekday?"
   ]
  },
  {
   "cell_type": "markdown",
   "id": "89f26538",
   "metadata": {},
   "source": [
    "#### Which hours are the criems committed the most common?"
   ]
  },
  {
   "cell_type": "markdown",
   "id": "e2516e71",
   "metadata": {},
   "source": [
    "## PySpark Initialization"
   ]
  },
  {
   "cell_type": "code",
   "execution_count": 1,
   "id": "f4375f8a",
   "metadata": {},
   "outputs": [],
   "source": [
    "# SparkSession imports and initialization\n",
    "import pyspark\n",
    "sc = pyspark.SparkContext(master=\"local[4]\",appName=\"NYPD_RDD\")"
   ]
  },
  {
   "cell_type": "code",
   "execution_count": 2,
   "id": "tough-mustang",
   "metadata": {},
   "outputs": [],
   "source": [
    "# import data\n",
    "rowdata = sc.textFile('NYPD_7_Major_Felony_Incidents.csv')"
   ]
  },
  {
   "cell_type": "code",
   "execution_count": 3,
   "id": "bibliographic-playback",
   "metadata": {},
   "outputs": [
    {
     "data": {
      "text/plain": [
       "1123466"
      ]
     },
     "execution_count": 3,
     "metadata": {},
     "output_type": "execute_result"
    }
   ],
   "source": [
    "# count dataset\n",
    "rowdata.count()"
   ]
  },
  {
   "cell_type": "markdown",
   "id": "aed0c4b5",
   "metadata": {},
   "source": [
    "## Prepare  the data "
   ]
  },
  {
   "cell_type": "code",
   "execution_count": 4,
   "id": "accompanied-hudson",
   "metadata": {},
   "outputs": [
    {
     "name": "stdout",
     "output_type": "stream",
     "text": [
      "OBJECTID,Identifier,Occurrence Date,Day of Week,Occurrence Month,Occurrence Day,Occurrence Year,Occurrence Hour,CompStat Month,CompStat Day,CompStat Year,Offense,Offense Classification,Sector,Precinct,Borough,Jurisdiction,XCoordinate,YCoordinate,Location 1\n"
     ]
    }
   ],
   "source": [
    "# Get header and dispalyed it\n",
    "header = rowdata.first()\n",
    "print(header)"
   ]
  },
  {
   "cell_type": "code",
   "execution_count": 5,
   "id": "starting-worry",
   "metadata": {},
   "outputs": [],
   "source": [
    "# Filter out the dataset without header and split and parse a record\n",
    "# SCALA data.filter(lambda x: x <> header)\n",
    "dataWoHeader = rowdata.filter(lambda x: x !=header)\\\n",
    "                        .map(lambda row: [x for x in row.split(\",\")])"
   ]
  },
  {
   "cell_type": "code",
   "execution_count": 6,
   "id": "14c4f100",
   "metadata": {},
   "outputs": [
    {
     "data": {
      "text/plain": [
       "25645"
      ]
     },
     "execution_count": 6,
     "metadata": {},
     "output_type": "execute_result"
    }
   ],
   "source": [
    "# Find empty fileds\n",
    "dataWoHeader.filter(lambda x: \"\" in x).count()"
   ]
  },
  {
   "cell_type": "code",
   "execution_count": 7,
   "id": "9a38f993",
   "metadata": {},
   "outputs": [
    {
     "data": {
      "text/plain": [
       "[0, 2, 3, 4, 5, 6, 9, 10, 13, 15, 16, 17, 18, 19]"
      ]
     },
     "execution_count": 7,
     "metadata": {},
     "output_type": "execute_result"
    }
   ],
   "source": [
    "# Find empty fields column index\n",
    "dataWoHeader.flatMap(lambda row: [i for i,x in enumerate(row) if x==\"\"]).distinct().sortBy(lambda x:x).collect()"
   ]
  },
  {
   "cell_type": "code",
   "execution_count": 8,
   "id": "powered-bradley",
   "metadata": {},
   "outputs": [
    {
     "data": {
      "text/plain": [
       "['OBJECTID',\n",
       " 'Identifier',\n",
       " 'Occurrence_Date',\n",
       " 'Day_of_Week',\n",
       " 'Occurrence_Month',\n",
       " 'Occurrence_Day',\n",
       " 'Occurrence_Year',\n",
       " 'Occurrence_Hour',\n",
       " 'CompStat_Month',\n",
       " 'CompStat_Day',\n",
       " 'CompStat_Year',\n",
       " 'Offense',\n",
       " 'Offense_Classification',\n",
       " 'Sector',\n",
       " 'Precinct',\n",
       " 'Borough',\n",
       " 'Jurisdiction',\n",
       " 'XCoordinate',\n",
       " 'YCoordinate',\n",
       " 'Location_1',\n",
       " 'Location_2']"
      ]
     },
     "execution_count": 8,
     "metadata": {},
     "output_type": "execute_result"
    }
   ],
   "source": [
    "#  clean and prepare the fields list\n",
    "fields = header.replace(\" \",\"_\").replace(\"/\",\"_\").split(\",\")\n",
    "fields.append('Location_2')\n",
    "fields"
   ]
  },
  {
   "cell_type": "code",
   "execution_count": 9,
   "id": "5677de65",
   "metadata": {},
   "outputs": [],
   "source": [
    "# prepare the datatype list for specific fields\n",
    "structure = [\"int\",\n",
    "             \"string\",\n",
    "             \"datetime\",\n",
    "             \"string\",\n",
    "             \"string\",\n",
    "             \"int\",\n",
    "             \"int\",\n",
    "             \"int\",\n",
    "             \"int\",\n",
    "             \"int\",\n",
    "             \"int\",\n",
    "             \"string\",\n",
    "             \"string\",\n",
    "             \"string\",\n",
    "             \"int\",\n",
    "             \"string\",\n",
    "             \"string\",\n",
    "             \"int\",\n",
    "             \"int\",\n",
    "             \"float\",\n",
    "            \"float\"]"
   ]
  },
  {
   "cell_type": "code",
   "execution_count": 10,
   "id": "bb184b0c",
   "metadata": {},
   "outputs": [
    {
     "data": {
      "text/plain": [
       "{'OBJECTID': 'int',\n",
       " 'Identifier': 'string',\n",
       " 'Occurrence_Date': 'datetime',\n",
       " 'Day_of_Week': 'string',\n",
       " 'Occurrence_Month': 'string',\n",
       " 'Occurrence_Day': 'int',\n",
       " 'Occurrence_Year': 'int',\n",
       " 'Occurrence_Hour': 'int',\n",
       " 'CompStat_Month': 'int',\n",
       " 'CompStat_Day': 'int',\n",
       " 'CompStat_Year': 'int',\n",
       " 'Offense': 'string',\n",
       " 'Offense_Classification': 'string',\n",
       " 'Sector': 'string',\n",
       " 'Precinct': 'int',\n",
       " 'Borough': 'string',\n",
       " 'Jurisdiction': 'string',\n",
       " 'XCoordinate': 'int',\n",
       " 'YCoordinate': 'int',\n",
       " 'Location_1': 'float',\n",
       " 'Location_2': 'float'}"
      ]
     },
     "execution_count": 10,
     "metadata": {},
     "output_type": "execute_result"
    }
   ],
   "source": [
    "# display the fileds with data type\n",
    "example_dict = dict(zip(fields,structure))\n",
    "example_dict"
   ]
  },
  {
   "cell_type": "code",
   "execution_count": 11,
   "id": "9ed0b41a",
   "metadata": {},
   "outputs": [],
   "source": [
    "\n",
    "import datetime\n",
    "# Occurrence_Date =>'09/06/1940 07:30:00 PM'\n",
    "dt_fmt = \"%m/%d/%Y %I:%M:%S %p\"\n",
    "\n",
    "def transform_element(RDD_elem, elem_struct, names, dt_fmt):\n",
    "    \"\"\" Create the RDD, where each row is key-value dictionary.\n",
    "    \n",
    "        Args:\n",
    "        RDD_elem : The RDD row.\n",
    "        elem_struct : The field data type.\n",
    "        names : The field name.\n",
    "        dt_fmt : The format codes for strptime method.\n",
    "        \n",
    "        Return:\n",
    "        The dictionary \n",
    "    \"\"\"\n",
    "    out = dict()\n",
    "    for elem, e_type, name in zip(RDD_elem, elem_struct, names):\n",
    "        if e_type == \"int\":\n",
    "            if elem == \"\" or elem =='NA':\n",
    "                elem = 9999\n",
    "            else:\n",
    "                elem = int(elem)\n",
    "        elif e_type == \"datetime\":\n",
    "            if elem == \"\":\n",
    "                elem = ''\n",
    "            else:\n",
    "                elem = datetime.datetime.strptime(elem, dt_fmt)\n",
    "        elif e_type == \"float\":\n",
    "            if elem == \"\":\n",
    "                elem = ''\n",
    "            elif name ==\"Location_1\":\n",
    "                elem = float(elem[2:])\n",
    "            else:\n",
    "                elem = float(elem[:-2]) # Location_2\n",
    "        out[name] = elem\n",
    "    return out"
   ]
  },
  {
   "cell_type": "code",
   "execution_count": 12,
   "id": "b3fdbd89",
   "metadata": {},
   "outputs": [
    {
     "data": {
      "text/plain": [
       "['1',\n",
       " 'f070032d',\n",
       " '09/06/1940 07:30:00 PM',\n",
       " 'Friday',\n",
       " 'Sep',\n",
       " '6',\n",
       " '1940',\n",
       " '19',\n",
       " '9',\n",
       " '7',\n",
       " '2010',\n",
       " 'BURGLARY',\n",
       " 'FELONY',\n",
       " 'D',\n",
       " '66',\n",
       " 'BROOKLYN',\n",
       " 'N.Y. POLICE DEPT',\n",
       " '987478',\n",
       " '166141',\n",
       " '\"(40.6227027620001',\n",
       " ' -73.9883732929999)\"']"
      ]
     },
     "execution_count": 12,
     "metadata": {},
     "output_type": "execute_result"
    }
   ],
   "source": [
    "# display the dataset row\n",
    "x = dataWoHeader.first()\n",
    "x"
   ]
  },
  {
   "cell_type": "code",
   "execution_count": 13,
   "id": "2e8abbfa",
   "metadata": {},
   "outputs": [
    {
     "data": {
      "text/plain": [
       "{'OBJECTID': 1,\n",
       " 'Identifier': 'f070032d',\n",
       " 'Occurrence_Date': datetime.datetime(1940, 9, 6, 19, 30),\n",
       " 'Day_of_Week': 'Friday',\n",
       " 'Occurrence_Month': 'Sep',\n",
       " 'Occurrence_Day': 6,\n",
       " 'Occurrence_Year': 1940,\n",
       " 'Occurrence_Hour': 19,\n",
       " 'CompStat_Month': 9,\n",
       " 'CompStat_Day': 7,\n",
       " 'CompStat_Year': 2010,\n",
       " 'Offense': 'BURGLARY',\n",
       " 'Offense_Classification': 'FELONY',\n",
       " 'Sector': 'D',\n",
       " 'Precinct': 66,\n",
       " 'Borough': 'BROOKLYN',\n",
       " 'Jurisdiction': 'N.Y. POLICE DEPT',\n",
       " 'XCoordinate': 987478,\n",
       " 'YCoordinate': 166141,\n",
       " 'Location_1': 40.6227027620001,\n",
       " 'Location_2': -73.9883732929999}"
      ]
     },
     "execution_count": 13,
     "metadata": {},
     "output_type": "execute_result"
    }
   ],
   "source": [
    "# display transformed RDD\n",
    "x = dataWoHeader.first()\n",
    "\n",
    "transform_element(x, structure, fields, dt_fmt)"
   ]
  },
  {
   "cell_type": "code",
   "execution_count": 14,
   "id": "6db9c146",
   "metadata": {},
   "outputs": [],
   "source": [
    "# use the transform_element function on the dataWoHeader RDD\n",
    "data = dataWoHeader.map(lambda row:transform_element(row,structure,fields,dt_fmt))"
   ]
  },
  {
   "cell_type": "code",
   "execution_count": 15,
   "id": "61fca562",
   "metadata": {},
   "outputs": [
    {
     "data": {
      "text/plain": [
       "PythonRDD[18] at RDD at PythonRDD.scala:53"
      ]
     },
     "execution_count": 15,
     "metadata": {},
     "output_type": "execute_result"
    }
   ],
   "source": [
    "#Persist data RDD with the default storage level \n",
    "data.cache()"
   ]
  },
  {
   "cell_type": "markdown",
   "id": "f4fa755e",
   "metadata": {},
   "source": [
    "## Identifying and Filtring Missing values"
   ]
  },
  {
   "cell_type": "code",
   "execution_count": 16,
   "id": "d24a0edb",
   "metadata": {},
   "outputs": [
    {
     "data": {
      "text/plain": [
       "[(1900, 3),\n",
       " (1905, 2),\n",
       " (1908, 1),\n",
       " (1910, 3),\n",
       " (1911, 1),\n",
       " (1912, 1),\n",
       " (1913, 4),\n",
       " (1914, 2),\n",
       " (1915, 3),\n",
       " (1920, 1),\n",
       " (1940, 1),\n",
       " (1945, 2),\n",
       " (1946, 1),\n",
       " (1950, 1),\n",
       " (1954, 1),\n",
       " (1955, 1),\n",
       " (1956, 1),\n",
       " (1958, 1),\n",
       " (1959, 1),\n",
       " (1960, 1),\n",
       " (1964, 1),\n",
       " (1965, 2),\n",
       " (1966, 7),\n",
       " (1968, 1),\n",
       " (1969, 1),\n",
       " (1970, 2),\n",
       " (1971, 1),\n",
       " (1972, 2),\n",
       " (1973, 5),\n",
       " (1974, 3),\n",
       " (1975, 2),\n",
       " (1976, 2),\n",
       " (1977, 3),\n",
       " (1978, 2),\n",
       " (1979, 6),\n",
       " (1980, 5),\n",
       " (1981, 1),\n",
       " (1982, 5),\n",
       " (1983, 1),\n",
       " (1984, 4),\n",
       " (1985, 8),\n",
       " (1986, 2),\n",
       " (1987, 6),\n",
       " (1988, 6),\n",
       " (1989, 12),\n",
       " (1990, 17),\n",
       " (1991, 12),\n",
       " (1992, 12),\n",
       " (1993, 23),\n",
       " (1994, 19),\n",
       " (1995, 27),\n",
       " (1996, 34),\n",
       " (1997, 40),\n",
       " (1998, 74),\n",
       " (1999, 124),\n",
       " (2000, 282),\n",
       " (2001, 343),\n",
       " (2002, 368),\n",
       " (2003, 490),\n",
       " (2004, 692),\n",
       " (2005, 3272),\n",
       " (2006, 127885),\n",
       " (2007, 120554),\n",
       " (2008, 117375),\n",
       " (2009, 106018),\n",
       " (2010, 105643),\n",
       " (2011, 107206),\n",
       " (2012, 111798),\n",
       " (2013, 111286),\n",
       " (2014, 106849),\n",
       " (2015, 102657)]"
      ]
     },
     "execution_count": 16,
     "metadata": {},
     "output_type": "execute_result"
    }
   ],
   "source": [
    "data.filter(lambda x: x[\"Occurrence_Date\"] != \"\")\\\n",
    ".map(lambda x:(x[\"Occurrence_Date\"].year,1)).reduceByKey(lambda x,y: x+y).sortBy(lambda x: x[0]).collect()"
   ]
  },
  {
   "cell_type": "markdown",
   "id": "70bb8b8b",
   "metadata": {},
   "source": [
    "There is a significant difference in the case number when we compare the cases before and after 2006. This difference indicates that the data before 2006 are missing records. That is why we will focus only on the data after 2006. "
   ]
  },
  {
   "cell_type": "code",
   "execution_count": 17,
   "id": "7c51a06e",
   "metadata": {},
   "outputs": [],
   "source": [
    "dataFiltered=data.filter(lambda x: not (x[\"Offense\"] ==\"NA\" or x[\"Occurrence_Date\"] == \"\"))\\\n",
    "                    .filter(lambda x:x[\"Occurrence_Date\"].year >=2006)\n",
    "                "
   ]
  },
  {
   "cell_type": "code",
   "execution_count": 18,
   "id": "24dfdf59",
   "metadata": {},
   "outputs": [
    {
     "data": {
      "text/plain": [
       "1117271"
      ]
     },
     "execution_count": 18,
     "metadata": {},
     "output_type": "execute_result"
    }
   ],
   "source": [
    "dataFiltered.count()"
   ]
  },
  {
   "cell_type": "markdown",
   "id": "5bd1f723",
   "metadata": {},
   "source": [
    "## Understand the data"
   ]
  },
  {
   "cell_type": "markdown",
   "id": "cc033469",
   "metadata": {},
   "source": [
    "### What is the trend in crime over the past few years?"
   ]
  },
  {
   "cell_type": "code",
   "execution_count": 19,
   "id": "03c7b6d7",
   "metadata": {},
   "outputs": [
    {
     "data": {
      "text/plain": [
       "[(2006, 127885),\n",
       " (2007, 120554),\n",
       " (2008, 117375),\n",
       " (2009, 106018),\n",
       " (2010, 105643),\n",
       " (2011, 107206),\n",
       " (2012, 111798),\n",
       " (2013, 111286),\n",
       " (2014, 106849),\n",
       " (2015, 102657)]"
      ]
     },
     "execution_count": 19,
     "metadata": {},
     "output_type": "execute_result"
    }
   ],
   "source": [
    "dataFiltered.filter(lambda x: x[\"Occurrence_Date\"] != \"\")\\\n",
    "                .map(lambda x:(x[\"Occurrence_Date\"].year,1))\\\n",
    "                .reduceByKey(lambda x,y: x+y).sortBy(lambda x: x[0]).collect()"
   ]
  },
  {
   "cell_type": "markdown",
   "id": "5de86b75",
   "metadata": {},
   "source": [
    "###  Which categories of crimes are the most common?"
   ]
  },
  {
   "cell_type": "code",
   "execution_count": 20,
   "id": "unable-adaptation",
   "metadata": {
    "scrolled": true
   },
   "outputs": [
    {
     "data": {
      "text/plain": [
       "[('GRAND LARCENY', 424635),\n",
       " ('ROBBERY', 198569),\n",
       " ('BURGLARY', 191043),\n",
       " ('FELONY ASSAULT', 183879),\n",
       " ('GRAND LARCENY OF MOTOR VEHICLE', 101728),\n",
       " ('RAPE', 12974),\n",
       " ('MURDER & NON-NEGL. MANSLAUGHTE', 4443)]"
      ]
     },
     "execution_count": 20,
     "metadata": {},
     "output_type": "execute_result"
    }
   ],
   "source": [
    "dataFiltered.map(lambda x : (x[\"Offense\"],1)).reduceByKey(lambda x,y: x + y).takeOrdered(8, (lambda x: -x[1]))"
   ]
  },
  {
   "cell_type": "markdown",
   "id": "e8c108dc",
   "metadata": {},
   "source": [
    "### In which jurisdiction are crimes committed the most common?"
   ]
  },
  {
   "cell_type": "code",
   "execution_count": 21,
   "id": "6cbe8419",
   "metadata": {},
   "outputs": [
    {
     "data": {
      "text/plain": [
       "[('N.Y. POLICE DEPT', 1034796),\n",
       " ('N.Y. HOUSING POLICE', 47327),\n",
       " ('N.Y. TRANSIT POLICE', 24362),\n",
       " ('PORT AUTHORITY', 4594),\n",
       " ('POLICE DEPT NYC', 1941)]"
      ]
     },
     "execution_count": 21,
     "metadata": {},
     "output_type": "execute_result"
    }
   ],
   "source": [
    "dataFiltered.map(lambda x : (x[\"Jurisdiction\"],1)).reduceByKey(lambda x,y: x + y).takeOrdered(5, (lambda x: -x[1]))"
   ]
  },
  {
   "cell_type": "markdown",
   "id": "3430d9d8",
   "metadata": {},
   "source": [
    "### What is an avarage number of crimes committed per weekday?"
   ]
  },
  {
   "cell_type": "code",
   "execution_count": 22,
   "id": "4cd79107",
   "metadata": {},
   "outputs": [
    {
     "data": {
      "text/plain": [
       "[(1, (522.0, 307.1800766283525)),\n",
       " (2, (522.0, 301.0249042145594)),\n",
       " (3, (522.0, 305.09578544061304)),\n",
       " (4, (522.0, 303.45785440613025)),\n",
       " (5, (521.0, 340.33013435700576)),\n",
       " (6, (521.0, 305.89059500959695)),\n",
       " (7, (522.0, 278.62452107279694))]"
      ]
     },
     "execution_count": 22,
     "metadata": {},
     "output_type": "execute_result"
    }
   ],
   "source": [
    "dataFiltered.filter(lambda x: x[\"Occurrence_Date\"] != \"\").map(lambda x:(x[\"Occurrence_Date\"].date(),1)).reduceByKey(lambda x,y: x+y).map(lambda x: (x[0].isoweekday(),x[1])) \\\n",
    ".aggregateByKey((0.,0.), (lambda acc,x: (acc[0]+x,acc[1]+1)), \\\n",
    "               (lambda acc1,acc2: (acc1[0]+acc2[0],acc1[1]+acc2[1])))\\\n",
    ".mapValues(lambda x: (x[1],x[0]/x[1])).takeOrdered(7)"
   ]
  },
  {
   "cell_type": "markdown",
   "id": "603cb40c",
   "metadata": {},
   "source": [
    "### Which hours are the criems committed the most common?"
   ]
  },
  {
   "cell_type": "code",
   "execution_count": 23,
   "id": "86d8efb3",
   "metadata": {},
   "outputs": [
    {
     "data": {
      "text/plain": [
       "[(15, 65346), (12, 63565), (18, 62357), (17, 61076), (16, 60217)]"
      ]
     },
     "execution_count": 23,
     "metadata": {},
     "output_type": "execute_result"
    }
   ],
   "source": [
    "dataFiltered.filter(lambda x: x[\"Occurrence_Date\"] != \"\")\\\n",
    "            .map(lambda x : (x[\"Occurrence_Date\"].hour,1))\\\n",
    "            .reduceByKey(lambda x,y: x + y).takeOrdered(5, (lambda x: -x[1]))"
   ]
  },
  {
   "cell_type": "code",
   "execution_count": null,
   "id": "9a3356de",
   "metadata": {},
   "outputs": [],
   "source": []
  }
 ],
 "metadata": {
  "kernelspec": {
   "display_name": "Python 3",
   "language": "python",
   "name": "python3"
  },
  "language_info": {
   "codemirror_mode": {
    "name": "ipython",
    "version": 3
   },
   "file_extension": ".py",
   "mimetype": "text/x-python",
   "name": "python",
   "nbconvert_exporter": "python",
   "pygments_lexer": "ipython3",
   "version": "3.8.8"
  }
 },
 "nbformat": 4,
 "nbformat_minor": 5
}
